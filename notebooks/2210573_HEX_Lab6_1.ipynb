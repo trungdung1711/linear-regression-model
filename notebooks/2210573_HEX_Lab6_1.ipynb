{
 "cells": [
  {
   "cell_type": "markdown",
   "id": "04367128",
   "metadata": {},
   "source": [
    "### LINEAR REGRESSION RE-IMPLEMENTATION"
   ]
  },
  {
   "cell_type": "markdown",
   "id": "8752752a",
   "metadata": {},
   "source": [
    "The key idea: learn how to find parameters w (weights) and b (bias) that minimize the prediction error."
   ]
  },
  {
   "cell_type": "markdown",
   "id": "b85929c8",
   "metadata": {},
   "source": [
    "### TRY THE IMPLEMENTED MODEL WITH A DATASET"
   ]
  }
 ],
 "metadata": {
  "language_info": {
   "name": "python"
  }
 },
 "nbformat": 4,
 "nbformat_minor": 5
}
